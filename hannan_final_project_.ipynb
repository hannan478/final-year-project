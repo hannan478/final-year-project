{
 "cells": [
  {
   "cell_type": "code",
   "execution_count": 1,
   "id": "a53d4f73-a98a-4b22-93de-dfd5ac184c37",
   "metadata": {},
   "outputs": [
    {
     "name": "stdout",
     "output_type": "stream",
     "text": [
      "1\n",
      "3\n",
      "5\n",
      "7\n",
      "9\n",
      "11\n",
      "13\n",
      "15\n",
      "17\n",
      "19\n"
     ]
    }
   ],
   "source": [
    "# task number 1.1\n",
    "for num in range(1,21):\n",
    "    if num % 2 !=0:\n",
    "        print(num)"
   ]
  },
  {
   "cell_type": "code",
   "execution_count": 2,
   "id": "86e0ac1f-9908-4f4f-a5fc-20818a51b000",
   "metadata": {},
   "outputs": [
    {
     "name": "stdin",
     "output_type": "stream",
     "text": [
      "Enter your age:  16\n"
     ]
    },
    {
     "name": "stdout",
     "output_type": "stream",
     "text": [
      "Teenager\n"
     ]
    }
   ],
   "source": [
    "# task number 1.2 \n",
    "\n",
    "age = int(input(\"Enter your age: \"))\n",
    "\n",
    "if age <= 12:\n",
    "    print(\"Child\")\n",
    "elif 13 <= age <= 19:\n",
    "    print(\"Teenager\")\n",
    "else:\n",
    "    print(\"Adult\")"
   ]
  },
  {
   "cell_type": "code",
   "execution_count": 20,
   "id": "3af2f661-5b0b-4a76-9f90-75f6eadc567b",
   "metadata": {},
   "outputs": [
    {
     "name": "stdout",
     "output_type": "stream",
     "text": [
      "Requirement already satisfied: matplotlib in c:\\users\\star\\appdata\\local\\programs\\python\\python311\\lib\\site-packages (3.9.0)\n",
      "Requirement already satisfied: contourpy>=1.0.1 in c:\\users\\star\\appdata\\local\\programs\\python\\python311\\lib\\site-packages (from matplotlib) (1.2.1)\n",
      "Requirement already satisfied: cycler>=0.10 in c:\\users\\star\\appdata\\local\\programs\\python\\python311\\lib\\site-packages (from matplotlib) (0.12.1)\n",
      "Requirement already satisfied: fonttools>=4.22.0 in c:\\users\\star\\appdata\\local\\programs\\python\\python311\\lib\\site-packages (from matplotlib) (4.53.0)\n",
      "Requirement already satisfied: kiwisolver>=1.3.1 in c:\\users\\star\\appdata\\local\\programs\\python\\python311\\lib\\site-packages (from matplotlib) (1.4.5)\n",
      "Requirement already satisfied: numpy>=1.23 in c:\\users\\star\\appdata\\local\\programs\\python\\python311\\lib\\site-packages (from matplotlib) (2.0.0)\n",
      "Requirement already satisfied: packaging>=20.0 in c:\\users\\star\\appdata\\local\\programs\\python\\python311\\lib\\site-packages (from matplotlib) (24.1)\n",
      "Requirement already satisfied: pillow>=8 in c:\\users\\star\\appdata\\local\\programs\\python\\python311\\lib\\site-packages (from matplotlib) (10.3.0)\n",
      "Requirement already satisfied: pyparsing>=2.3.1 in c:\\users\\star\\appdata\\local\\programs\\python\\python311\\lib\\site-packages (from matplotlib) (3.1.2)\n",
      "Requirement already satisfied: python-dateutil>=2.7 in c:\\users\\star\\appdata\\local\\programs\\python\\python311\\lib\\site-packages (from matplotlib) (2.9.0.post0)\n",
      "Requirement already satisfied: six>=1.5 in c:\\users\\star\\appdata\\local\\programs\\python\\python311\\lib\\site-packages (from python-dateutil>=2.7->matplotlib) (1.16.0)\n"
     ]
    },
    {
     "name": "stderr",
     "output_type": "stream",
     "text": [
      "\n",
      "[notice] A new release of pip is available: 24.1 -> 24.1.1\n",
      "[notice] To update, run: python.exe -m pip install --upgrade pip\n"
     ]
    }
   ],
   "source": [
    "!pip install matplotlib"
   ]
  },
  {
   "cell_type": "code",
   "execution_count": 21,
   "id": "d330ded0-945c-47c7-b006-c6559efa6f30",
   "metadata": {},
   "outputs": [
    {
     "name": "stderr",
     "output_type": "stream",
     "text": [
      "Matplotlib is building the font cache; this may take a moment.\n"
     ]
    },
    {
     "data": {
      "text/plain": [
       "[<matplotlib.lines.Line2D at 0x294e8847210>]"
      ]
     },
     "execution_count": 21,
     "metadata": {},
     "output_type": "execute_result"
    },
    {
     "data": {
      "image/png": "[encoded data removed]",
      "text/plain": [
       "<Figure size 640x480 with 1 Axes>"
      ]
     },
     "metadata": {},
     "output_type": "display_data"
    }
   ],
   "source": [
    "# task number 1.3\n",
    "import matplotlib.pyplot as plt\n",
    "\n",
    "x = [0,1,2,3,4,5,6,7,8]\n",
    "y = [10,30,20,50,62,35,36,13,32]\n",
    "\n",
    "\n",
    "plt.plot(x,y)"
   ]
  },
  {
   "cell_type": "code",
   "execution_count": 8,
   "id": "56246e30-ad3e-4aa4-9b91-3ffc8e5cfde0",
   "metadata": {},
   "outputs": [],
   "source": [
    "# task number 3\n",
    "import tkinter as tk\n",
    "from tkinter import messagebox\n",
    "\n",
    "def submit():\n",
    "    name = entry_name.get()\n",
    "    email = entry_email.get()\n",
    "    gender = var_gender.get()\n",
    "    country = var_country.get()\n",
    "    programming = var_programming.get()\n",
    "    \n",
    "    if name and email and gender and country and programming:\n",
    "        messagebox.showinfo(\"Registration\", \"Registration successful!\")\n",
    "    else:\n",
    "        messagebox.showwarning(\"Registration\", \"fill the requried information\")\n",
    "\n",
    "# Create the main window\n",
    "root = tk.Tk()\n",
    "root.title(\"Registration Form\")\n",
    "\n",
    "# Create and place the labels and entries for each field\n",
    "tk.Label(root, text=\"Full Name\").grid(row=0, column=0)\n",
    "entry_name = tk.Entry(root)\n",
    "entry_name.grid(row=0, column=1)\n",
    "\n",
    "tk.Label(root, text=\"Email\").grid(row=1, column=0)\n",
    "entry_email = tk.Entry(root)\n",
    "entry_email.grid(row=1, column=1)\n",
    "\n",
    "tk.Label(root, text=\"Gender\").grid(row=2, column=0)\n",
    "var_gender = tk.StringVar(value=\"Male\")\n",
    "tk.Radiobutton(root, text=\"Male\", variable=var_gender, value=\"Male\").grid(row=2, column=1, sticky=\"w\")\n",
    "tk.Radiobutton(root, text=\"Female\", variable=var_gender, value=\"Female\").grid(row=2, column=2, sticky=\"w\")\n",
    "\n",
    "tk.Label(root, text=\"Country\").grid(row=3, column=0)\n",
    "var_country = tk.StringVar()\n",
    "countries = [\"Select your country\", \"Pakistan\", \"china\", \"india\", \"canada\",\"scortland\"]\n",
    "var_country.set(countries[0])\n",
    "tk.OptionMenu(root, var_country, *countries).grid(row=3, column=1)\n",
    "\n",
    "tk.Label(root, text=\"Programming\").grid(row=4, column=0)\n",
    "var_programming = tk.StringVar(value=\"Java\")\n",
    "tk.Checkbutton(root, text=\"Java\", variable=var_programming, onvalue=\"Java\", offvalue=\"\").grid(row=4, column=1, sticky=\"w\")\n",
    "tk.Checkbutton(root, text=\"Python\", variable=var_programming, onvalue=\"Python\", offvalue=\"\").grid(row=4, column=2, sticky=\"w\")\n",
    "\n",
    "# Create and place the submit button\n",
    "tk.Button(root, text=\"Submit\", command=submit).grid(row=7, column=0, columnspan=3)\n",
    "\n",
    "# Run the application\n",
    "root.mainloop()"
   ]
  },
  {
   "cell_type": "code",
   "execution_count": null,
   "id": "f52c9cc8-1b73-4aed-9e71-c3ee12a896a7",
   "metadata": {},
   "outputs": [],
   "source": []
  }
 ],
 "metadata": {
  "kernelspec": {
   "display_name": "Python 3 (ipykernel)",
   "language": "python",
   "name": "python3"
  },
  "language_info": {
   "codemirror_mode": {
    "name": "ipython",
    "version": 3
   },
   "file_extension": ".py",
   "mimetype": "text/x-python",
   "name": "python",
   "nbconvert_exporter": "python",
   "pygments_lexer": "ipython3",
   "version": "3.11.0"
  }
 },
 "nbformat": 4,
 "nbformat_minor": 5
}
